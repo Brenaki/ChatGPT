{
 "cells": [
  {
   "cell_type": "code",
   "execution_count": null,
   "id": "d30b868a",
   "metadata": {},
   "outputs": [],
   "source": [
    "import json\n",
    "\n",
    "def main():\n",
    "    # Carrega o dicionário de palavras do arquivo JSON\n",
    "    with open('dicionario.json', 'r') as f:\n",
    "        dicionario = json.load(f)\n",
    "\n",
    "    while True:\n",
    "        \n",
    "        # Solicita que o usuário digite uma palavra em inglês\n",
    "        palavra = input(\"Digite uma palavra em inglês (ou 'q' para sair): \").lower()\n",
    "\n",
    "        # Verifica se o usuário deseja sair\n",
    "        if palavra == 'q':\n",
    "            break\n",
    "\n",
    "        # Verifica se a palavra existe no dicionário e exibe a tradução correspondente\n",
    "        if palavra in dicionario:\n",
    "            print(f\"A tradução de '{palavra}' é '{dicionario[palavra]}'\")\n",
    "        else:\n",
    "            print(f\"A palavra '{palavra}' não foi encontrada no dicionário\")\n",
    "\n",
    "if __name__ == '__main__':\n",
    "    main()"
   ]
  }
 ],
 "metadata": {
  "kernelspec": {
   "display_name": "Python 3 (ipykernel)",
   "language": "python",
   "name": "python3"
  },
  "language_info": {
   "codemirror_mode": {
    "name": "ipython",
    "version": 3
   },
   "file_extension": ".py",
   "mimetype": "text/x-python",
   "name": "python",
   "nbconvert_exporter": "python",
   "pygments_lexer": "ipython3",
   "version": "3.9.13"
  }
 },
 "nbformat": 4,
 "nbformat_minor": 5
}
