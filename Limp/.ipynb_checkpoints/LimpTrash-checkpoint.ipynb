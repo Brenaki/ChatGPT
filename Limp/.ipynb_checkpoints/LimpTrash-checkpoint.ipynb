{
 "cells": [
  {
   "cell_type": "code",
   "execution_count": null,
   "id": "8cc7d1c5",
   "metadata": {},
   "outputs": [],
   "source": [
    "!pip install send2trash\n"
   ]
  },
  {
   "cell_type": "code",
   "execution_count": null,
   "id": "9c7852bb",
   "metadata": {},
   "outputs": [],
   "source": [
    "import os\n",
    "import send2trash\n",
    "\n",
    "# Limpar a pasta %temp%\n",
    "temp_folder = os.path.join(os.environ.get('TEMP'))\n",
    "for file_name in os.listdir(temp_folder):\n",
    "    file_path = os.path.join(temp_folder, file_name)\n",
    "    try:\n",
    "        if os.path.isfile(file_path):\n",
    "            os.unlink(file_path)\n",
    "        elif os.path.isdir(file_path):\n",
    "            send2trash.send2trash(file_path)\n",
    "    except Exception as e:\n",
    "        print(f'Falha ao deletar o arquivo {file_path}. Erro: {e}')\n",
    "\n",
    "# Esvaziar a lixeira do computador\n",
    "send2trash.send2trash(os.path.expanduser('~/.local/share/Trash/files'))\n"
   ]
  }
 ],
 "metadata": {
  "kernelspec": {
   "display_name": "Python 3 (ipykernel)",
   "language": "python",
   "name": "python3"
  },
  "language_info": {
   "codemirror_mode": {
    "name": "ipython",
    "version": 3
   },
   "file_extension": ".py",
   "mimetype": "text/x-python",
   "name": "python",
   "nbconvert_exporter": "python",
   "pygments_lexer": "ipython3",
   "version": "3.9.13"
  }
 },
 "nbformat": 4,
 "nbformat_minor": 5
}
